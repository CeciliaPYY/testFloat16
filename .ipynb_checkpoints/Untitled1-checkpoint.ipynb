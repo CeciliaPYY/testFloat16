{
 "cells": [
  {
   "cell_type": "code",
   "execution_count": 21,
   "metadata": {},
   "outputs": [],
   "source": [
    "import pandas as pd\n",
    "import mxnet as mx\n",
    "from mxnet import gluon\n",
    "from mxnet.gluon.data.vision import transforms\n",
    "import gluoncv\n",
    "import cv2\n",
    "from mxnet import ndarray as nd\n",
    "import numpy as np\n",
    "from mxnet.gluon.data.vision import ImageFolderDataset"
   ]
  },
  {
   "cell_type": "markdown",
   "metadata": {},
   "source": [
    "# 定义一个ImageFolderDataset"
   ]
  },
  {
   "cell_type": "code",
   "execution_count": 28,
   "metadata": {},
   "outputs": [],
   "source": [
    "class BKData(ImageFolderDataset):\n",
    "    def __init__(self, *arg1, **arg2):\n",
    "        super(BKData,self).__init__(*arg1,**arg2)\n",
    "\n",
    "    def __getitem__(self, idx):\n",
    "        '''\n",
    "        use cv2 backend\n",
    "        '''\n",
    "        img  = cv2.imread(self.items[idx][0])\n",
    "        if img.shape[2] == 1:\n",
    "            # read an gray map\n",
    "            img = cv2.cvtcolor(img,cv2.color_gray2rgb)\n",
    "        img  = nd.array( img[:,:,:3]).astype(np.uint8)\n",
    "        label = self.items[idx][1]\n",
    "        if self._transform is not None:\n",
    "            return self._transform(img, label)\n",
    "        return img, label"
   ]
  },
  {
   "cell_type": "markdown",
   "metadata": {},
   "source": [
    "# 数据预处理"
   ]
  },
  {
   "cell_type": "code",
   "execution_count": 29,
   "metadata": {},
   "outputs": [],
   "source": [
    "transform_test = transforms.Compose([\n",
    "    transforms.Resize(256),\n",
    "    transforms.CenterCrop(224),\n",
    "    transforms.ToTensor(),\n",
    "    transforms.Normalize([0.485, 0.456, 0.406], [0.229, 0.224, 0.225])\n",
    "])\n",
    "\n",
    "\n",
    "test_path = \"./classified-images\"\n",
    "batch_size = 256\n",
    "num_gpus = 1\n",
    "num_workers = 8\n",
    "ctx = [mx.gpu(i) for i in range(num_gpus)] if num_gpus > 0 else [mx.cpu()]\n",
    "\n",
    "test_data = gluon.data.DataLoader(\n",
    "    BKData(test_path).transform_first(transform_test),\n",
    "    batch_size=batch_size, shuffle=True, num_workers = num_workers,last_batch = 'discard')"
   ]
  },
  {
   "cell_type": "markdown",
   "metadata": {},
   "source": [
    "# 模型导入"
   ]
  },
  {
   "cell_type": "code",
   "execution_count": 36,
   "metadata": {},
   "outputs": [],
   "source": [
    "from mxnet.gluon import nn\n",
    "from mxnet import gluon, image, init, nd\n",
    "model_name = 'ResNet50_v1d'\n",
    "finetune_net = gluoncv.model_zoo.get_model(model_name, pretrained=True)\n",
    "\n",
    "with finetune_net.name_scope():\n",
    "    finetune_net.fc = nn.Dense(2)\n",
    "finetune_net.fc.initialize(init.Xavier(), ctx = ctx)\n",
    "finetune_net.collect_params().reset_ctx(ctx)\n",
    "finetune_net.hybridize()"
   ]
  },
  {
   "cell_type": "markdown",
   "metadata": {},
   "source": [
    "# 转换前测试"
   ]
  },
  {
   "cell_type": "code",
   "execution_count": 43,
   "metadata": {},
   "outputs": [
    {
     "name": "stdout",
     "output_type": "stream",
     "text": [
      "Total Duration is 134.5033130645752\n",
      "Average Duration is 0.011675676641364893\n"
     ]
    }
   ],
   "source": [
    "import time\n",
    "t0 = time.time()\n",
    "ctx  = [mx.gpu(0)]\n",
    "\n",
    "for idx , g in enumerate(test_data):\n",
    "    g[0] = g[0].as_in_context(mx.gpu(0))\n",
    "    y = finetune_net(g[0])\n",
    "\n",
    "print(\"Total Duration is {}\".format(time.time() - t0))\n",
    "print(\"Average Duration is {}\".format((time.time() - t0) / (len(test_data)*batch_size)))"
   ]
  },
  {
   "cell_type": "markdown",
   "metadata": {},
   "source": [
    "# 转换后测试"
   ]
  },
  {
   "cell_type": "code",
   "execution_count": null,
   "metadata": {},
   "outputs": [],
   "source": [
    "import time\n",
    "t0 = time.time()\n",
    "ctx  = [mx.gpu(0)]\n",
    "finetune_net.cast(dtype = \"float16\")\n",
    "\n",
    "for idx , g in enumerate(test_data):\n",
    "    g[0] = g[0].as_in_context(mx.gpu(0)).astype('float16', copy=False)\n",
    "    y = finetune_net(g[0])\n",
    "\n",
    "print(\"Total Duration is {}\".format(time.time() - t0))\n",
    "print(\"Average Duration is {}\".format((time.time() - t0) / (len(test_data)*batch_size)))"
   ]
  }
 ],
 "metadata": {
  "kernelspec": {
   "display_name": "Python 3",
   "language": "python",
   "name": "python3"
  },
  "language_info": {
   "codemirror_mode": {
    "name": "ipython",
    "version": 3
   },
   "file_extension": ".py",
   "mimetype": "text/x-python",
   "name": "python",
   "nbconvert_exporter": "python",
   "pygments_lexer": "ipython3",
   "version": "3.5.2"
  }
 },
 "nbformat": 4,
 "nbformat_minor": 2
}
